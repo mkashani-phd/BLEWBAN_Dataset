{
 "cells": [
  {
   "cell_type": "code",
   "execution_count": 1,
   "metadata": {},
   "outputs": [
    {
     "name": "stderr",
     "output_type": "stream",
     "text": [
      "2023-10-23 14:42:23.512544: I tensorflow/core/util/port.cc:110] oneDNN custom operations are on. You may see slightly different numerical results due to floating-point round-off errors from different computation orders. To turn them off, set the environment variable `TF_ENABLE_ONEDNN_OPTS=0`.\n",
      "2023-10-23 14:42:23.546909: I tensorflow/tsl/cuda/cudart_stub.cc:28] Could not find cuda drivers on your machine, GPU will not be used.\n",
      "2023-10-23 14:42:23.762510: I tensorflow/tsl/cuda/cudart_stub.cc:28] Could not find cuda drivers on your machine, GPU will not be used.\n",
      "2023-10-23 14:42:23.763469: I tensorflow/core/platform/cpu_feature_guard.cc:182] This TensorFlow binary is optimized to use available CPU instructions in performance-critical operations.\n",
      "To enable the following instructions: AVX2 AVX512F AVX512_VNNI FMA, in other operations, rebuild TensorFlow with the appropriate compiler flags.\n",
      "2023-10-23 14:42:24.422521: W tensorflow/compiler/tf2tensorrt/utils/py_utils.cc:38] TF-TRT Warning: Could not find TensorRT\n"
     ]
    },
    {
     "ename": "ImportError",
     "evalue": "cannot import name 'Darknet' from 'darknet' (/home/moh/.local/lib/python3.10/site-packages/darknet/__init__.py)",
     "output_type": "error",
     "traceback": [
      "\u001b[0;31m---------------------------------------------------------------------------\u001b[0m",
      "\u001b[0;31mImportError\u001b[0m                               Traceback (most recent call last)",
      "\u001b[1;32m/home/moh/Documents/PhD/BLEWBAN_Dataset/Examples/AutoEncoder.ipynb Cell 1\u001b[0m line \u001b[0;36m8\n\u001b[1;32m      <a href='vscode-notebook-cell:/home/moh/Documents/PhD/BLEWBAN_Dataset/Examples/AutoEncoder.ipynb#W0sZmlsZQ%3D%3D?line=2'>3</a>\u001b[0m \u001b[39mfrom\u001b[39;00m \u001b[39mkeras\u001b[39;00m\u001b[39m.\u001b[39;00m\u001b[39mmodels\u001b[39;00m \u001b[39mimport\u001b[39;00m Sequential\n\u001b[1;32m      <a href='vscode-notebook-cell:/home/moh/Documents/PhD/BLEWBAN_Dataset/Examples/AutoEncoder.ipynb#W0sZmlsZQ%3D%3D?line=3'>4</a>\u001b[0m \u001b[39mfrom\u001b[39;00m \u001b[39mkeras\u001b[39;00m\u001b[39m.\u001b[39;00m\u001b[39mlayers\u001b[39;00m \u001b[39mimport\u001b[39;00m Dense\n\u001b[0;32m----> <a href='vscode-notebook-cell:/home/moh/Documents/PhD/BLEWBAN_Dataset/Examples/AutoEncoder.ipynb#W0sZmlsZQ%3D%3D?line=7'>8</a>\u001b[0m \u001b[39mfrom\u001b[39;00m \u001b[39mdarknet\u001b[39;00m \u001b[39mimport\u001b[39;00m Darknet\n",
      "\u001b[0;31mImportError\u001b[0m: cannot import name 'Darknet' from 'darknet' (/home/moh/.local/lib/python3.10/site-packages/darknet/__init__.py)"
     ]
    }
   ],
   "source": [
    "import numpy as np\n",
    "import matplotlib.pyplot as plt\n",
    "from keras.models import Sequential\n",
    "from keras.layers import Dense\n",
    "\n",
    "\n",
    "\n",
    "from darknet import Darknet\n",
    "\n",
    "\n"
   ]
  },
  {
   "cell_type": "code",
   "execution_count": null,
   "metadata": {},
   "outputs": [],
   "source": [
    "myclient = pymongo.MongoClient(\"mongodb://127.0.0.1:27017/admin\")\n",
    "BLE = myclient[\"BLE\"]\n",
    "\n",
    "def query(collection, filter:dict, addFrameColumn=True):\n",
    "    df =  pd.DataFrame(list(collection.find(filter)))\n",
    "    if addFrameColumn:\n",
    "        df['frame'] = df.apply(lambda x: x['I'] + np.dot(x['Q'],1j), axis=1)\n",
    "    return df.copy()"
   ]
  },
  {
   "cell_type": "code",
   "execution_count": null,
   "metadata": {},
   "outputs": [],
   "source": [
    "\n",
    "\n",
    "\n",
    "# Reshape the data for training (1 sample of many timesteps)\n",
    "y_train = y.reshape(1, -1)\n",
    "\n",
    "# Build the autoencoder model\n",
    "model = Sequential()\n",
    "model.add(Dense(128, activation='relu', input_shape=(y_train.shape[1],)))\n",
    "model.add(Dense(64, activation='relu'))\n",
    "model.add(Dense(32, activation='relu'))\n",
    "model.add(Dense(64, activation='relu'))\n",
    "model.add(Dense(128, activation='relu'))\n",
    "model.add(Dense(y_train.shape[1]))  # Linear activation for reconstruction\n",
    "\n",
    "model.compile(optimizer='adam', loss='mse')\n",
    "model.fit(y_train, y_train, epochs=500, verbose=0)\n",
    "\n",
    "# Predict (reconstruct) the time series\n",
    "y_pred = model.predict(y_train)\n",
    "\n",
    "# Visualization\n",
    "plt.figure(figsize=(12, 6))\n",
    "plt.plot(t, y, label='Original Time Series')\n",
    "plt.plot(t, y_pred[0], label='Reconstructed Time Series', linestyle='--')\n",
    "plt.legend()\n",
    "plt.show()\n"
   ]
  }
 ],
 "metadata": {
  "kernelspec": {
   "display_name": "Python 3",
   "language": "python",
   "name": "python3"
  },
  "language_info": {
   "codemirror_mode": {
    "name": "ipython",
    "version": 3
   },
   "file_extension": ".py",
   "mimetype": "text/x-python",
   "name": "python",
   "nbconvert_exporter": "python",
   "pygments_lexer": "ipython3",
   "version": "3.10.7"
  }
 },
 "nbformat": 4,
 "nbformat_minor": 2
}
