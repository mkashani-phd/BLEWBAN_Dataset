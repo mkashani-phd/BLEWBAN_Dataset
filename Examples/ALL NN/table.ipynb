{
 "cells": [
  {
   "cell_type": "code",
   "execution_count": 3,
   "metadata": {},
   "outputs": [],
   "source": [
    "table = r\"\"\"\\begin{table}[]\n",
    "\\begin{tabular}{|c|c|c|c|c|c|c|c|c|c|c|c|c|c|}\n",
    "\\hline\n",
    "\\textbf{}&\\textbf{}&\\textbf{\\#frames}&\\textbf{}&\\textbf{}&\\textbf{}&\\textbf{}&\\textbf{}&\\textbf{}&\\textbf{}&\\textbf{}&\\textbf{}&\\textbf{}&\\\\\\hline\n",
    "\\textbf{model}&\\textbf{Fs}&\\textbf{cut-off}&\\textbf{E1}&\\textbf{E2}&\\textbf{E3}&\\textbf{E4}&\\textbf{E5}&\\textbf{E6}&\\textbf{E7}&\\textbf{E8}&\\textbf{E9}&\\textbf{F10}&\\textbf{F11}\\\\\\hline\n",
    "&&1&0.88&0.64&0.33&0.82&0.45&0.83&0.89&0.88&0.87&0.86&0.73\\\\\\cline{3-14}\n",
    "&\\multirow{-2}{*}{5}&2&0.90&0.65&0.41&0.82&0.45&0.85&0.88&0.86&0.87&0.87&0.75\\\\\\cline{2-14}\n",
    "&&1&0.79&0.69&0.43&0.85&0.39&0.87&0.91&0.88&0.86&0.88&0.76\\\\\\cline{3-14}\n",
    "&&2&0.92&0.70&0.44&0.84&0.44&0.84&0.89&0.88&0.84&0.84&0.76\\\\\\cline{3-14}\n",
    "&\\multirow{-3}{*}{10}&4&0.91&0.71&0.42&0.85&0.47&0.84&0.89&0.87&0.87&0.89&0.76\\\\\\cline{2-14}\n",
    "&&1&0.85&0.71&0.39&0.85&0.32&0.85&0.90&0.91&0.84&0.81&0.81\\\\\\cline{3-14}\n",
    "&&2&0.95&0.66&0.33&0.80&0.32&0.86&0.88&0.88&0.82&0.85&0.79\\\\\\cline{3-14}\n",
    "\\multirow{-8}{*}{0FREQ}&\\multirow{-3}{*}{100}&4&0.92&0.66&0.40&0.88&0.32&0.90&0.83&0.88&0.88&0.88&0.71\\\\\\hline\n",
    "&&1&0.87&0.88&0.34&0.77&0.34&0.79&0.87&0.63&0.40&0.42&0.35\\\\\\cline{3-14}\n",
    "&\\multirow{-2}{*}{5}&2&0.82&0.93&0.34&0.72&0.40&0.77&0.86&0.66&0.81&0.41&0.20\\\\\\cline{2-14}\n",
    "&&1&0.32&0.89&0.40&0.66&0.37&0.79&0.87&0.85&0.81&0.40&0.20\\\\\\cline{3-14}\n",
    "&&2&0.85&0.88&0.38&0.77&0.35&0.75&0.49&0.85&0.36&0.69&0.20\\\\\\cline{3-14}\n",
    "&\\multirow{-3}{*}{10}&4&0.81&0.89&0.39&0.76&0.35&0.77&0.58&0.75&0.58&0.43&0.69\\\\\\cline{2-14}\n",
    "&&1&0.83&0.89&0.40&0.65&0.38&0.80&0.85&0.84&0.80&0.80&0.67\\\\\\cline{3-14}\n",
    "&&2&0.86&0.84&0.41&0.70&0.38&0.70&0.80&0.66&0.78&0.82&0.67\\\\\\cline{3-14}\n",
    "\\multirow{-8}{*}{CVNN}&\\multirow{-3}{*}{100}&4&0.85&0.79&0.40&0.80&0.34&0.71&0.86&0.88&0.77&0.83&0.66\\\\\\hline\n",
    "&&1&0.33&0.63&0.34&0.16&0.24&0.08&0.48&0.53&0.37&0.52&0.20\\\\\\cline{3-14}\n",
    "&\\multirow{-2}{*}{5}&2&0.30&0.83&0.34&0.16&0.24&0.08&0.45&0.55&0.36&0.56&0.20\\\\\\cline{2-14}\n",
    "&&1&0.70&0.64&0.34&0.16&0.27&0.13&0.47&0.55&0.36&0.51&0.20\\\\\\cline{3-14}\n",
    "&&2&0.70&0.63&0.33&0.15&0.24&0.13&0.48&0.53&0.36&0.56&0.20\\\\\\cline{3-14}\n",
    "&\\multirow{-3}{*}{10}&4&0.74&0.87&0.34&0.16&0.24&0.15&0.45&0.60&0.37&0.38&0.20\\\\\\cline{2-14}\n",
    "&&1&0.71&0.66&0.34&0.17&0.24&0.14&0.68&0.66&0.40&0.55&0.22\\\\\\cline{3-14}\n",
    "&&2&0.69&0.74&0.34&0.16&0.25&0.63&0.60&0.64&0.36&0.52&0.21\\\\\\cline{3-14}\n",
    "\\multirow{-8}{*}{IQSplit}&\\multirow{-3}{*}{100}&4&0.68&0.84&0.33&0.17&0.23&0.13&0.70&0.43&0.38&0.53&0.39\\\\\\hline\n",
    "\\end{tabular}\n",
    "\\end{table}\"\"\""
   ]
  },
  {
   "cell_type": "code",
   "execution_count": 18,
   "metadata": {},
   "outputs": [
    {
     "name": "stdout",
     "output_type": "stream",
     "text": [
      "\\begin{table}[]\n",
      "\\begin{tabular}{|c|c|c|c|c|c|c|c|c|c|c|c|c|c|}\n",
      "\\hline\n",
      "\\textbf{}&\\textbf{}&\\textbf{\\#frames}&\\textbf{}&\\textbf{}&\\textbf{}&\\textbf{}&\\textbf{}&\\textbf{}&\\textbf{}&\\textbf{}&\\textbf{}&\\textbf{}&\\\\\\hline\n",
      "\\textbf{model}&\\textbf{Fs}&\\textbf{cut-off}&\\textbf{E1}&\\textbf{E2}&\\textbf{E3}&\\textbf{E4}&\\textbf{E5}&\\textbf{E6}&\\textbf{E7}&\\textbf{E8}&\\textbf{E9}&\\textbf{F10}&\\textbf{F11}\\\\\\hline\n",
      "&&1& \\colorcell{0.88}& \\colorcell{0.64}& \\colorcell{0.33}& \\colorcell{0.82}& \\colorcell{0.45}& \\colorcell{0.83}& \\colorcell{0.89}& \\colorcell{0.88}& \\colorcell{0.87}& \\colorcell{0.86}& \\colorcell{0.73}\\\\\\cline{3-14}\n",
      "&\\multirow{-2}{*}{5}&2& \\colorcell{0.90}& \\colorcell{0.65}& \\colorcell{0.41}& \\colorcell{0.82}& \\colorcell{0.45}& \\colorcell{0.85}& \\colorcell{0.88}& \\colorcell{0.86}& \\colorcell{0.87}& \\colorcell{0.87}& \\colorcell{0.75}\\\\\\cline{2-14}\n",
      "&&1& \\colorcell{0.79}& \\colorcell{0.69}& \\colorcell{0.43}& \\colorcell{0.85}& \\colorcell{0.39}& \\colorcell{0.87}& \\colorcell{0.91}& \\colorcell{0.88}& \\colorcell{0.86}& \\colorcell{0.88}& \\colorcell{0.76}\\\\\\cline{3-14}\n",
      "&&2& \\colorcell{0.92}& \\colorcell{0.70}& \\colorcell{0.44}& \\colorcell{0.84}& \\colorcell{0.44}& \\colorcell{0.84}& \\colorcell{0.89}& \\colorcell{0.88}& \\colorcell{0.84}& \\colorcell{0.84}& \\colorcell{0.76}\\\\\\cline{3-14}\n",
      "&\\multirow{-3}{*}{10}&4& \\colorcell{0.91}& \\colorcell{0.71}& \\colorcell{0.42}& \\colorcell{0.85}& \\colorcell{0.47}& \\colorcell{0.84}& \\colorcell{0.89}& \\colorcell{0.87}& \\colorcell{0.87}& \\colorcell{0.89}& \\colorcell{0.76}\\\\\\cline{2-14}\n",
      "&&1& \\colorcell{0.85}& \\colorcell{0.71}& \\colorcell{0.39}& \\colorcell{0.85}& \\colorcell{0.32}& \\colorcell{0.85}& \\colorcell{0.90}& \\colorcell{0.91}& \\colorcell{0.84}& \\colorcell{0.81}& \\colorcell{0.81}\\\\\\cline{3-14}\n",
      "&&2& \\colorcell{0.95}& \\colorcell{0.66}& \\colorcell{0.33}& \\colorcell{0.80}& \\colorcell{0.32}& \\colorcell{0.86}& \\colorcell{0.88}& \\colorcell{0.88}& \\colorcell{0.82}& \\colorcell{0.85}& \\colorcell{0.79}\\\\\\cline{3-14}\n",
      "\\multirow{-8}{*}{0FREQ}&\\multirow{-3}{*}{100}&4& \\colorcell{0.92}& \\colorcell{0.66}& \\colorcell{0.40}& \\colorcell{0.88}& \\colorcell{0.32}& \\colorcell{0.90}& \\colorcell{0.83}& \\colorcell{0.88}& \\colorcell{0.88}& \\colorcell{0.88}& \\colorcell{0.71}\\\\\\hline\n",
      "&&1& \\colorcell{0.87}& \\colorcell{0.88}& \\colorcell{0.34}& \\colorcell{0.77}& \\colorcell{0.34}& \\colorcell{0.79}& \\colorcell{0.87}& \\colorcell{0.63}& \\colorcell{0.40}& \\colorcell{0.42}& \\colorcell{0.35}\\\\\\cline{3-14}\n",
      "&\\multirow{-2}{*}{5}&2& \\colorcell{0.82}& \\colorcell{0.93}& \\colorcell{0.34}& \\colorcell{0.72}& \\colorcell{0.40}& \\colorcell{0.77}& \\colorcell{0.86}& \\colorcell{0.66}& \\colorcell{0.81}& \\colorcell{0.41}& \\colorcell{0.20}\\\\\\cline{2-14}\n",
      "&&1& \\colorcell{0.32}& \\colorcell{0.89}& \\colorcell{0.40}& \\colorcell{0.66}& \\colorcell{0.37}& \\colorcell{0.79}& \\colorcell{0.87}& \\colorcell{0.85}& \\colorcell{0.81}& \\colorcell{0.40}& \\colorcell{0.20}\\\\\\cline{3-14}\n",
      "&&2& \\colorcell{0.85}& \\colorcell{0.88}& \\colorcell{0.38}& \\colorcell{0.77}& \\colorcell{0.35}& \\colorcell{0.75}& \\colorcell{0.49}& \\colorcell{0.85}& \\colorcell{0.36}& \\colorcell{0.69}& \\colorcell{0.20}\\\\\\cline{3-14}\n",
      "&\\multirow{-3}{*}{10}&4& \\colorcell{0.81}& \\colorcell{0.89}& \\colorcell{0.39}& \\colorcell{0.76}& \\colorcell{0.35}& \\colorcell{0.77}& \\colorcell{0.58}& \\colorcell{0.75}& \\colorcell{0.58}& \\colorcell{0.43}& \\colorcell{0.69}\\\\\\cline{2-14}\n",
      "&&1& \\colorcell{0.83}& \\colorcell{0.89}& \\colorcell{0.40}& \\colorcell{0.65}& \\colorcell{0.38}& \\colorcell{0.80}& \\colorcell{0.85}& \\colorcell{0.84}& \\colorcell{0.80}& \\colorcell{0.80}& \\colorcell{0.67}\\\\\\cline{3-14}\n",
      "&&2& \\colorcell{0.86}& \\colorcell{0.84}& \\colorcell{0.41}& \\colorcell{0.70}& \\colorcell{0.38}& \\colorcell{0.70}& \\colorcell{0.80}& \\colorcell{0.66}& \\colorcell{0.78}& \\colorcell{0.82}& \\colorcell{0.67}\\\\\\cline{3-14}\n",
      "\\multirow{-8}{*}{CVNN}&\\multirow{-3}{*}{100}&4& \\colorcell{0.85}& \\colorcell{0.79}& \\colorcell{0.40}& \\colorcell{0.80}& \\colorcell{0.34}& \\colorcell{0.71}& \\colorcell{0.86}& \\colorcell{0.88}& \\colorcell{0.77}& \\colorcell{0.83}& \\colorcell{0.66}\\\\\\hline\n",
      "&&1& \\colorcell{0.33}& \\colorcell{0.63}& \\colorcell{0.34}& \\colorcell{0.16}& \\colorcell{0.24}& \\colorcell{0.08}& \\colorcell{0.48}& \\colorcell{0.53}& \\colorcell{0.37}& \\colorcell{0.52}& \\colorcell{0.20}\\\\\\cline{3-14}\n",
      "&\\multirow{-2}{*}{5}&2& \\colorcell{0.30}& \\colorcell{0.83}& \\colorcell{0.34}& \\colorcell{0.16}& \\colorcell{0.24}& \\colorcell{0.08}& \\colorcell{0.45}& \\colorcell{0.55}& \\colorcell{0.36}& \\colorcell{0.56}& \\colorcell{0.20}\\\\\\cline{2-14}\n",
      "&&1& \\colorcell{0.70}& \\colorcell{0.64}& \\colorcell{0.34}& \\colorcell{0.16}& \\colorcell{0.27}& \\colorcell{0.13}& \\colorcell{0.47}& \\colorcell{0.55}& \\colorcell{0.36}& \\colorcell{0.51}& \\colorcell{0.20}\\\\\\cline{3-14}\n",
      "&&2& \\colorcell{0.70}& \\colorcell{0.63}& \\colorcell{0.33}& \\colorcell{0.15}& \\colorcell{0.24}& \\colorcell{0.13}& \\colorcell{0.48}& \\colorcell{0.53}& \\colorcell{0.36}& \\colorcell{0.56}& \\colorcell{0.20}\\\\\\cline{3-14}\n",
      "&\\multirow{-3}{*}{10}&4& \\colorcell{0.74}& \\colorcell{0.87}& \\colorcell{0.34}& \\colorcell{0.16}& \\colorcell{0.24}& \\colorcell{0.15}& \\colorcell{0.45}& \\colorcell{0.60}& \\colorcell{0.37}& \\colorcell{0.38}& \\colorcell{0.20}\\\\\\cline{2-14}\n",
      "&&1& \\colorcell{0.71}& \\colorcell{0.66}& \\colorcell{0.34}& \\colorcell{0.17}& \\colorcell{0.24}& \\colorcell{0.14}& \\colorcell{0.68}& \\colorcell{0.66}& \\colorcell{0.40}& \\colorcell{0.55}& \\colorcell{0.22}\\\\\\cline{3-14}\n",
      "&&2& \\colorcell{0.69}& \\colorcell{0.74}& \\colorcell{0.34}& \\colorcell{0.16}& \\colorcell{0.25}& \\colorcell{0.63}& \\colorcell{0.60}& \\colorcell{0.64}& \\colorcell{0.36}& \\colorcell{0.52}& \\colorcell{0.21}\\\\\\cline{3-14}\n",
      "\\multirow{-8}{*}{IQSplit}&\\multirow{-3}{*}{100}&4& \\colorcell{0.68}& \\colorcell{0.84}& \\colorcell{0.33}& \\colorcell{0.17}& \\colorcell{0.23}& \\colorcell{0.13}& \\colorcell{0.70}& \\colorcell{0.43}& \\colorcell{0.38}& \\colorcell{0.53}& \\colorcell{0.39}\\\\\\hline\n",
      "\\end{tabular}\n",
      "\\end{table}\n"
     ]
    }
   ],
   "source": [
    "import re\n",
    "\n",
    "\n",
    "def f(match):\n",
    "    return \" \\colorcell{\" + match.group()+ \"}\"\n",
    "\n",
    "numbers = re.sub(pattern=\"0.\\d\\d\",repl=f, string=table)\n",
    "print(numbers)"
   ]
  }
 ],
 "metadata": {
  "kernelspec": {
   "display_name": "Python 3",
   "language": "python",
   "name": "python3"
  },
  "language_info": {
   "codemirror_mode": {
    "name": "ipython",
    "version": 3
   },
   "file_extension": ".py",
   "mimetype": "text/x-python",
   "name": "python",
   "nbconvert_exporter": "python",
   "pygments_lexer": "ipython3",
   "version": "3.10.12"
  }
 },
 "nbformat": 4,
 "nbformat_minor": 2
}
