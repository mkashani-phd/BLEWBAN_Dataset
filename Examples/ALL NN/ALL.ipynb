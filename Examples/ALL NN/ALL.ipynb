{
 "cells": [
  {
   "cell_type": "code",
   "execution_count": 5,
   "metadata": {},
   "outputs": [],
   "source": [
    "## you can run pip3 install -r requirements.txt to install all the packages\n",
    "## but you need to install tensorflow or pytorch or keras manually\n",
    "\n",
    "import pymongo\n",
    "import pandas as pd\n",
    "import numpy as np\n",
    "import matplotlib.pyplot as plt\n",
    "\n",
    "import threading, os, sys\n",
    "# os.environ['CUDA_VISIBLE_DEVICES'] = '-1' # try to use CPU only\n",
    "\n",
    "# addin path to import IQ module\n",
    "sys.path.append('../../')\n",
    "import src.IQ as IQ"
   ]
  },
  {
   "cell_type": "code",
   "execution_count": 6,
   "metadata": {},
   "outputs": [],
   "source": [
    "myclient = pymongo.MongoClient(\"mongodb://127.0.0.1:27017/admin\")\n",
    "BLE = myclient[\"BLE\"]\n",
    "\n",
    "def query(collection, filter:dict, addFrameColumn=True):\n",
    "    df =  pd.DataFrame(list(collection.find(filter)))\n",
    "    if addFrameColumn:\n",
    "        df['frame'] = df.apply(lambda x: x['I'] + np.dot(x['Q'],1j), axis=1)\n",
    "    return df.copy()"
   ]
  },
  {
   "cell_type": "code",
   "execution_count": null,
   "metadata": {},
   "outputs": [],
   "source": [
    "from sklearn.model_selection import train_test_split\n",
    "\n",
    "filtering = {''}\n",
    "df = query(BLE['onBody'], {'pos':'static','antenna_side':'left'})\n",
    "min_length = df['frame'].apply(len).min()\n",
    "df['frame'] = df['frame'].apply(lambda x: x[:2000])\n",
    "print(len(df['frame'][0]))\n",
    "\n"
   ]
  },
  {
   "cell_type": "code",
   "execution_count": null,
   "metadata": {},
   "outputs": [],
   "source": [
    "iq = IQ.IQ(Fc=2439810000+.1e4)\n",
    "\n",
    "def configCreator(downSampleRate = 1, cutoff = 2e6):\n",
    "    downSampleRate= max(downSampleRate, 1)\n",
    "    return {                                      \n",
    "            iq.butter:{'Fs': iq.Fs/downSampleRate, \"cutoff\": cutoff},\n",
    "            iq.downSample:{'downSampleRate':downSampleRate, \"shift\": 0},\n",
    "            iq.demodulate:{'Fs': iq.Fs},\n",
    "           }\n",
    "\n",
    "methods = configCreator(downSampleRate=  1)\n",
    "df['data'] = iq.apply(methods = methods, frame = df)\n",
    "\n",
    "############### Defing and normalizing the input #############\n",
    "# df['normalized_input_feature'] = df['data'].apply(lambda x: fft_normalized(x, threshold = 1))\n",
    "df['normalized_input_feature'] = df['data'].apply(lambda x: x[0:2000])\n",
    "df['normalized_input_feature_realImage'] = df['normalized_input_feature'].apply(lambda x: normalized(np.concatenate([np.real(x[0:2000]), np.imag(x[0:2000])])))\n",
    "##################################################################################\n",
    "\n",
    "X_train, X_test, y_train, y_test = train_test_split(df['normalized_input_feature'], df['dvc'], test_size=0.2, random_state=42)"
   ]
  }
 ],
 "metadata": {
  "kernelspec": {
   "display_name": "Python 3",
   "language": "python",
   "name": "python3"
  },
  "language_info": {
   "codemirror_mode": {
    "name": "ipython",
    "version": 3
   },
   "file_extension": ".py",
   "mimetype": "text/x-python",
   "name": "python",
   "nbconvert_exporter": "python",
   "pygments_lexer": "ipython3",
   "version": "3.10.12"
  }
 },
 "nbformat": 4,
 "nbformat_minor": 2
}
