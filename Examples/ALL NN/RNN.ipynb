{
 "cells": [
  {
   "cell_type": "code",
   "execution_count": 59,
   "metadata": {},
   "outputs": [
    {
     "data": {
      "text/plain": [
       "<KerasTensor: shape=(None, 1, 32) dtype=float32 (created by layer 'conv1d_16')>"
      ]
     },
     "execution_count": 59,
     "metadata": {},
     "output_type": "execute_result"
    }
   ],
   "source": [
    "\n",
    "import numpy as np\n",
    "import tensorflow as tf\n",
    "import keras\n",
    "from keras import layers\n",
    "\n",
    "\n",
    "x = layers.Input(shape=(2,32,))\n",
    "y = layers.Conv1D(filters=1, kernel_size=(8), activation='relu',data_format='channels_first', padding= 'same')(x)\n",
    "# y = layers.Conv1D(filters=1, kernel_size=(8), activation='relu')(x)\n",
    "\n",
    "y\n",
    "# model = keras.Model(x, y)\n",
    "\n",
    "# model.compile(optimizer='adam', loss='mse')\n",
    "\n",
    "# x_train = np.random.random((1000, 2, 32))\n",
    "# y_train = np.random.random((1000, 16))\n",
    "\n",
    "# model.fit(x_train, y_train, epochs=10, batch_size=32)\n",
    "\n",
    "\n",
    "\n",
    "\n"
   ]
  }
 ],
 "metadata": {
  "kernelspec": {
   "display_name": "Python 3",
   "language": "python",
   "name": "python3"
  },
  "language_info": {
   "codemirror_mode": {
    "name": "ipython",
    "version": 3
   },
   "file_extension": ".py",
   "mimetype": "text/x-python",
   "name": "python",
   "nbconvert_exporter": "python",
   "pygments_lexer": "ipython3",
   "version": "3.10.12"
  }
 },
 "nbformat": 4,
 "nbformat_minor": 2
}
