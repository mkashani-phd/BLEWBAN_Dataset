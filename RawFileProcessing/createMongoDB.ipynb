{
 "cells": [
  {
   "cell_type": "markdown",
   "metadata": {},
   "source": [
    "# Pushing data to a MongoDB database"
   ]
  },
  {
   "cell_type": "code",
   "execution_count": 2,
   "metadata": {},
   "outputs": [],
   "source": [
    "import os, sys\n",
    "import pymongo\n",
    "\n",
    "sys.path.append('../')\n",
    "import src.dataProcessing as dp"
   ]
  },
  {
   "cell_type": "code",
   "execution_count": 3,
   "metadata": {},
   "outputs": [],
   "source": [
    "utils = dp.Utills() \n",
    "\n",
    "# connect to mongoDB\n",
    "client = pymongo.MongoClient(\"mongodb://localhost:27017/\")\n",
    "BLE = client[\"BLE\"]"
   ]
  },
  {
   "cell_type": "code",
   "execution_count": null,
   "metadata": {},
   "outputs": [],
   "source": [
    "\n",
    "def pushToDB(path,target, include_frame=True):\n",
    "    totalFiles = len(os.listdir(path+target))\n",
    "    currentFile = 0\n",
    "    for x in os.scandir(path+target):\n",
    "        if os.path.splitext(x)[1] != '.iq':\n",
    "            continue\n",
    "        \n",
    "        target_path = os.path.splitext(x)[0]+os.path.splitext(x)[1]\n",
    "        IQdatas,tindx = utils.readFile(target_path,Fc=2440000000.0 - 173000)\n",
    "\n",
    "        for frame_nr in range(IQdatas.LEN):\n",
    "            metaData = IQdatas.getMetaData(frame_nr, include_frame=include_frame)\n",
    "            # print(target.split('/')[2].split('_')[1])\n",
    "            if metaData == 0 or metaData['frameDecode'] == [0]:\n",
    "                try:\n",
    "                    if metaData['frameDecode'] == [0] or metaData['lenFrame'] <3000:\n",
    "                        print(metaData)\n",
    "                except:\n",
    "                    pass\n",
    "                continue\n",
    "            collection = BLE[target.split('/')[1]]\n",
    "            if len(metaData['frameDecode']) >= 10 and IQdatas.isServer(frame_nr) == False:\n",
    "                collection.insert_one(metaData)\n",
    "        currentFile += 1\n",
    "        print(currentFile/totalFiles*100,'%')\n",
    "\n",
    "\n",
    "path = '../DataSet/'\n",
    "targets = ['SDR_1/onBody/iter_1/','SDR_2/onBody/iter_1/',\n",
    "          'SDR_1/onBody/iter_2/','SDR_2/onBody/iter_2/']\n",
    "for target in targets:\n",
    "    pushToDB(path,target)\n",
    "\n",
    "targets = ['SDR_1/offBody/high-tx-PWR-9dbm/', 'SDR_2/offBody/high-tx-PWR-9dbm/',\n",
    "          'SDR_1/offBody/low-tx-PWR-3dbm/','SDR_2/offBody/low-tx-PWR-3dbm/']\n",
    "for target in targets:\n",
    "    pushToDB(path,target)"
   ]
  }
 ],
 "metadata": {
  "kernelspec": {
   "display_name": "Python 3",
   "language": "python",
   "name": "python3"
  },
  "language_info": {
   "codemirror_mode": {
    "name": "ipython",
    "version": 3
   },
   "file_extension": ".py",
   "mimetype": "text/x-python",
   "name": "python",
   "nbconvert_exporter": "python",
   "pygments_lexer": "ipython3",
   "version": "3.10.12"
  }
 },
 "nbformat": 4,
 "nbformat_minor": 2
}
